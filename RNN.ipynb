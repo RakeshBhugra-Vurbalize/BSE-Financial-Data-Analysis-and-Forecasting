{
 "cells": [
  {
   "cell_type": "code",
   "execution_count": 58,
   "metadata": {},
   "outputs": [],
   "source": [
    "import numpy as np\n",
    "import matplotlib.pyplot as plt\n",
    "import pandas as pd"
   ]
  },
  {
   "cell_type": "markdown",
   "metadata": {},
   "source": [
    "# Importing the training set"
   ]
  },
  {
   "cell_type": "code",
   "execution_count": 120,
   "metadata": {},
   "outputs": [
    {
     "name": "stdout",
     "output_type": "stream",
     "text": [
      "Index(['Symbol', 'Date', 'Open', 'High', 'Low', 'Close', 'Adj Close',\n",
      "       'Volume'],\n",
      "      dtype='object')\n"
     ]
    }
   ],
   "source": [
    "data = pd.read_csv('BSE_30_Data.csv')\n",
    "print(data.columns)"
   ]
  },
  {
   "cell_type": "code",
   "execution_count": 146,
   "metadata": {},
   "outputs": [
    {
     "data": {
      "text/html": [
       "<div>\n",
       "<style scoped>\n",
       "    .dataframe tbody tr th:only-of-type {\n",
       "        vertical-align: middle;\n",
       "    }\n",
       "\n",
       "    .dataframe tbody tr th {\n",
       "        vertical-align: top;\n",
       "    }\n",
       "\n",
       "    .dataframe thead th {\n",
       "        text-align: right;\n",
       "    }\n",
       "</style>\n",
       "<table border=\"1\" class=\"dataframe\">\n",
       "  <thead>\n",
       "    <tr style=\"text-align: right;\">\n",
       "      <th></th>\n",
       "      <th>Symbol</th>\n",
       "      <th>Date</th>\n",
       "      <th>Open</th>\n",
       "      <th>High</th>\n",
       "      <th>Low</th>\n",
       "      <th>Close</th>\n",
       "      <th>Adj Close</th>\n",
       "      <th>Volume</th>\n",
       "    </tr>\n",
       "  </thead>\n",
       "  <tbody>\n",
       "    <tr>\n",
       "      <th>0</th>\n",
       "      <td>ADANIPORTS</td>\n",
       "      <td>05-06-2008</td>\n",
       "      <td>150.000000</td>\n",
       "      <td>153.570007</td>\n",
       "      <td>147.820007</td>\n",
       "      <td>151.149994</td>\n",
       "      <td>134.313477</td>\n",
       "      <td>1782030.0</td>\n",
       "    </tr>\n",
       "    <tr>\n",
       "      <th>1</th>\n",
       "      <td>ADANIPORTS</td>\n",
       "      <td>05-07-2008</td>\n",
       "      <td>152.000000</td>\n",
       "      <td>154.460007</td>\n",
       "      <td>150.240005</td>\n",
       "      <td>153.309998</td>\n",
       "      <td>136.232864</td>\n",
       "      <td>1180015.0</td>\n",
       "    </tr>\n",
       "    <tr>\n",
       "      <th>2</th>\n",
       "      <td>ADANIPORTS</td>\n",
       "      <td>05-08-2008</td>\n",
       "      <td>152.199997</td>\n",
       "      <td>156.759995</td>\n",
       "      <td>150.199997</td>\n",
       "      <td>155.889999</td>\n",
       "      <td>138.525497</td>\n",
       "      <td>1856245.0</td>\n",
       "    </tr>\n",
       "    <tr>\n",
       "      <th>3</th>\n",
       "      <td>ADANIPORTS</td>\n",
       "      <td>05-09-2008</td>\n",
       "      <td>155.000000</td>\n",
       "      <td>160.600006</td>\n",
       "      <td>154.210007</td>\n",
       "      <td>156.520004</td>\n",
       "      <td>139.085312</td>\n",
       "      <td>3251375.0</td>\n",
       "    </tr>\n",
       "    <tr>\n",
       "      <th>4</th>\n",
       "      <td>ADANIPORTS</td>\n",
       "      <td>05-12-2008</td>\n",
       "      <td>156.000000</td>\n",
       "      <td>163.479996</td>\n",
       "      <td>151.000000</td>\n",
       "      <td>162.500000</td>\n",
       "      <td>144.399170</td>\n",
       "      <td>5031635.0</td>\n",
       "    </tr>\n",
       "    <tr>\n",
       "      <th>...</th>\n",
       "      <td>...</td>\n",
       "      <td>...</td>\n",
       "      <td>...</td>\n",
       "      <td>...</td>\n",
       "      <td>...</td>\n",
       "      <td>...</td>\n",
       "      <td>...</td>\n",
       "      <td>...</td>\n",
       "    </tr>\n",
       "    <tr>\n",
       "      <th>73310</th>\n",
       "      <td>POWERGRID</td>\n",
       "      <td>4/27/2018</td>\n",
       "      <td>205.100006</td>\n",
       "      <td>208.750000</td>\n",
       "      <td>205.100006</td>\n",
       "      <td>207.800003</td>\n",
       "      <td>207.800003</td>\n",
       "      <td>99047.0</td>\n",
       "    </tr>\n",
       "    <tr>\n",
       "      <th>73311</th>\n",
       "      <td>POWERGRID</td>\n",
       "      <td>4/30/2018</td>\n",
       "      <td>207.800003</td>\n",
       "      <td>208.699997</td>\n",
       "      <td>206.800003</td>\n",
       "      <td>207.649994</td>\n",
       "      <td>207.649994</td>\n",
       "      <td>57778.0</td>\n",
       "    </tr>\n",
       "    <tr>\n",
       "      <th>73312</th>\n",
       "      <td>POWERGRID</td>\n",
       "      <td>05-02-2018</td>\n",
       "      <td>208.000000</td>\n",
       "      <td>208.949997</td>\n",
       "      <td>204.100006</td>\n",
       "      <td>205.050003</td>\n",
       "      <td>205.050003</td>\n",
       "      <td>103247.0</td>\n",
       "    </tr>\n",
       "    <tr>\n",
       "      <th>73313</th>\n",
       "      <td>POWERGRID</td>\n",
       "      <td>05-03-2018</td>\n",
       "      <td>202.500000</td>\n",
       "      <td>207.899994</td>\n",
       "      <td>202.500000</td>\n",
       "      <td>206.550003</td>\n",
       "      <td>206.550003</td>\n",
       "      <td>92484.0</td>\n",
       "    </tr>\n",
       "    <tr>\n",
       "      <th>73314</th>\n",
       "      <td>POWERGRID</td>\n",
       "      <td>05-04-2018</td>\n",
       "      <td>206.500000</td>\n",
       "      <td>207.949997</td>\n",
       "      <td>205.399994</td>\n",
       "      <td>207.750000</td>\n",
       "      <td>207.750000</td>\n",
       "      <td>277769.0</td>\n",
       "    </tr>\n",
       "  </tbody>\n",
       "</table>\n",
       "<p>73315 rows × 8 columns</p>\n",
       "</div>"
      ],
      "text/plain": [
       "           Symbol        Date        Open        High         Low       Close  \\\n",
       "0      ADANIPORTS  05-06-2008  150.000000  153.570007  147.820007  151.149994   \n",
       "1      ADANIPORTS  05-07-2008  152.000000  154.460007  150.240005  153.309998   \n",
       "2      ADANIPORTS  05-08-2008  152.199997  156.759995  150.199997  155.889999   \n",
       "3      ADANIPORTS  05-09-2008  155.000000  160.600006  154.210007  156.520004   \n",
       "4      ADANIPORTS  05-12-2008  156.000000  163.479996  151.000000  162.500000   \n",
       "...           ...         ...         ...         ...         ...         ...   \n",
       "73310   POWERGRID   4/27/2018  205.100006  208.750000  205.100006  207.800003   \n",
       "73311   POWERGRID   4/30/2018  207.800003  208.699997  206.800003  207.649994   \n",
       "73312   POWERGRID  05-02-2018  208.000000  208.949997  204.100006  205.050003   \n",
       "73313   POWERGRID  05-03-2018  202.500000  207.899994  202.500000  206.550003   \n",
       "73314   POWERGRID  05-04-2018  206.500000  207.949997  205.399994  207.750000   \n",
       "\n",
       "        Adj Close     Volume  \n",
       "0      134.313477  1782030.0  \n",
       "1      136.232864  1180015.0  \n",
       "2      138.525497  1856245.0  \n",
       "3      139.085312  3251375.0  \n",
       "4      144.399170  5031635.0  \n",
       "...           ...        ...  \n",
       "73310  207.800003    99047.0  \n",
       "73311  207.649994    57778.0  \n",
       "73312  205.050003   103247.0  \n",
       "73313  206.550003    92484.0  \n",
       "73314  207.750000   277769.0  \n",
       "\n",
       "[73315 rows x 8 columns]"
      ]
     },
     "execution_count": 146,
     "metadata": {},
     "output_type": "execute_result"
    }
   ],
   "source": [
    "data"
   ]
  },
  {
   "cell_type": "code",
   "execution_count": 147,
   "metadata": {},
   "outputs": [],
   "source": [
    "data_pivot = data.pivot_table(index=['Symbol', 'Date'] )\n",
    "df = data_pivot.loc['ADANIPORTS']\n",
    "\n",
    "df.index = pd.to_datetime(df.index)\n",
    "df.sort_index(inplace=True)\n",
    "df=df.iloc[:,1:4]"
   ]
  },
  {
   "cell_type": "code",
   "execution_count": 148,
   "metadata": {},
   "outputs": [
    {
     "data": {
      "text/html": [
       "<div>\n",
       "<style scoped>\n",
       "    .dataframe tbody tr th:only-of-type {\n",
       "        vertical-align: middle;\n",
       "    }\n",
       "\n",
       "    .dataframe tbody tr th {\n",
       "        vertical-align: top;\n",
       "    }\n",
       "\n",
       "    .dataframe thead th {\n",
       "        text-align: right;\n",
       "    }\n",
       "</style>\n",
       "<table border=\"1\" class=\"dataframe\">\n",
       "  <thead>\n",
       "    <tr style=\"text-align: right;\">\n",
       "      <th></th>\n",
       "      <th>Close</th>\n",
       "      <th>High</th>\n",
       "      <th>Low</th>\n",
       "    </tr>\n",
       "    <tr>\n",
       "      <th>Date</th>\n",
       "      <th></th>\n",
       "      <th></th>\n",
       "      <th></th>\n",
       "    </tr>\n",
       "  </thead>\n",
       "  <tbody>\n",
       "    <tr>\n",
       "      <th>2008-05-06</th>\n",
       "      <td>151.149994</td>\n",
       "      <td>153.570007</td>\n",
       "      <td>147.820007</td>\n",
       "    </tr>\n",
       "    <tr>\n",
       "      <th>2008-05-07</th>\n",
       "      <td>153.309998</td>\n",
       "      <td>154.460007</td>\n",
       "      <td>150.240005</td>\n",
       "    </tr>\n",
       "    <tr>\n",
       "      <th>2008-05-08</th>\n",
       "      <td>155.889999</td>\n",
       "      <td>156.759995</td>\n",
       "      <td>150.199997</td>\n",
       "    </tr>\n",
       "    <tr>\n",
       "      <th>2008-05-09</th>\n",
       "      <td>156.520004</td>\n",
       "      <td>160.600006</td>\n",
       "      <td>154.210007</td>\n",
       "    </tr>\n",
       "    <tr>\n",
       "      <th>2008-05-12</th>\n",
       "      <td>162.500000</td>\n",
       "      <td>163.479996</td>\n",
       "      <td>151.000000</td>\n",
       "    </tr>\n",
       "    <tr>\n",
       "      <th>2008-05-13</th>\n",
       "      <td>158.479996</td>\n",
       "      <td>165.410004</td>\n",
       "      <td>157.399994</td>\n",
       "    </tr>\n",
       "    <tr>\n",
       "      <th>2008-05-14</th>\n",
       "      <td>157.759995</td>\n",
       "      <td>160.399994</td>\n",
       "      <td>156.899994</td>\n",
       "    </tr>\n",
       "    <tr>\n",
       "      <th>2008-05-15</th>\n",
       "      <td>158.080002</td>\n",
       "      <td>161.970001</td>\n",
       "      <td>157.050003</td>\n",
       "    </tr>\n",
       "    <tr>\n",
       "      <th>2008-05-16</th>\n",
       "      <td>154.779999</td>\n",
       "      <td>160.000000</td>\n",
       "      <td>154.000000</td>\n",
       "    </tr>\n",
       "    <tr>\n",
       "      <th>2008-05-20</th>\n",
       "      <td>176.960007</td>\n",
       "      <td>181.100006</td>\n",
       "      <td>153.570007</td>\n",
       "    </tr>\n",
       "    <tr>\n",
       "      <th>2008-05-21</th>\n",
       "      <td>180.289993</td>\n",
       "      <td>185.000000</td>\n",
       "      <td>175.000000</td>\n",
       "    </tr>\n",
       "    <tr>\n",
       "      <th>2008-05-22</th>\n",
       "      <td>176.169998</td>\n",
       "      <td>182.690002</td>\n",
       "      <td>173.800003</td>\n",
       "    </tr>\n",
       "    <tr>\n",
       "      <th>2008-05-23</th>\n",
       "      <td>170.550003</td>\n",
       "      <td>180.979996</td>\n",
       "      <td>169.199997</td>\n",
       "    </tr>\n",
       "    <tr>\n",
       "      <th>2008-05-26</th>\n",
       "      <td>177.240005</td>\n",
       "      <td>180.860001</td>\n",
       "      <td>166.600006</td>\n",
       "    </tr>\n",
       "    <tr>\n",
       "      <th>2008-05-27</th>\n",
       "      <td>174.350006</td>\n",
       "      <td>185.600006</td>\n",
       "      <td>172.210007</td>\n",
       "    </tr>\n",
       "    <tr>\n",
       "      <th>2008-05-28</th>\n",
       "      <td>168.610001</td>\n",
       "      <td>176.639999</td>\n",
       "      <td>167.250000</td>\n",
       "    </tr>\n",
       "  </tbody>\n",
       "</table>\n",
       "</div>"
      ],
      "text/plain": [
       "                 Close        High         Low\n",
       "Date                                          \n",
       "2008-05-06  151.149994  153.570007  147.820007\n",
       "2008-05-07  153.309998  154.460007  150.240005\n",
       "2008-05-08  155.889999  156.759995  150.199997\n",
       "2008-05-09  156.520004  160.600006  154.210007\n",
       "2008-05-12  162.500000  163.479996  151.000000\n",
       "2008-05-13  158.479996  165.410004  157.399994\n",
       "2008-05-14  157.759995  160.399994  156.899994\n",
       "2008-05-15  158.080002  161.970001  157.050003\n",
       "2008-05-16  154.779999  160.000000  154.000000\n",
       "2008-05-20  176.960007  181.100006  153.570007\n",
       "2008-05-21  180.289993  185.000000  175.000000\n",
       "2008-05-22  176.169998  182.690002  173.800003\n",
       "2008-05-23  170.550003  180.979996  169.199997\n",
       "2008-05-26  177.240005  180.860001  166.600006\n",
       "2008-05-27  174.350006  185.600006  172.210007\n",
       "2008-05-28  168.610001  176.639999  167.250000"
      ]
     },
     "execution_count": 148,
     "metadata": {},
     "output_type": "execute_result"
    }
   ],
   "source": [
    "df.head(timestep+1)"
   ]
  },
  {
   "cell_type": "code",
   "execution_count": 241,
   "metadata": {},
   "outputs": [
    {
     "data": {
      "text/html": [
       "<div>\n",
       "<style scoped>\n",
       "    .dataframe tbody tr th:only-of-type {\n",
       "        vertical-align: middle;\n",
       "    }\n",
       "\n",
       "    .dataframe tbody tr th {\n",
       "        vertical-align: top;\n",
       "    }\n",
       "\n",
       "    .dataframe thead th {\n",
       "        text-align: right;\n",
       "    }\n",
       "</style>\n",
       "<table border=\"1\" class=\"dataframe\">\n",
       "  <thead>\n",
       "    <tr style=\"text-align: right;\">\n",
       "      <th></th>\n",
       "      <th>Close</th>\n",
       "      <th>High</th>\n",
       "      <th>Low</th>\n",
       "    </tr>\n",
       "  </thead>\n",
       "  <tbody>\n",
       "    <tr>\n",
       "      <th>count</th>\n",
       "      <td>2461.000000</td>\n",
       "      <td>2461.000000</td>\n",
       "      <td>2461.000000</td>\n",
       "    </tr>\n",
       "    <tr>\n",
       "      <th>mean</th>\n",
       "      <td>201.333824</td>\n",
       "      <td>205.175567</td>\n",
       "      <td>197.970565</td>\n",
       "    </tr>\n",
       "    <tr>\n",
       "      <th>std</th>\n",
       "      <td>97.239175</td>\n",
       "      <td>98.362379</td>\n",
       "      <td>96.067389</td>\n",
       "    </tr>\n",
       "    <tr>\n",
       "      <th>min</th>\n",
       "      <td>51.480000</td>\n",
       "      <td>52.500000</td>\n",
       "      <td>50.000000</td>\n",
       "    </tr>\n",
       "    <tr>\n",
       "      <th>25%</th>\n",
       "      <td>129.500000</td>\n",
       "      <td>132.550003</td>\n",
       "      <td>127.000000</td>\n",
       "    </tr>\n",
       "    <tr>\n",
       "      <th>50%</th>\n",
       "      <td>154.199997</td>\n",
       "      <td>157.449997</td>\n",
       "      <td>151.500000</td>\n",
       "    </tr>\n",
       "    <tr>\n",
       "      <th>75%</th>\n",
       "      <td>284.350006</td>\n",
       "      <td>288.149994</td>\n",
       "      <td>277.450012</td>\n",
       "    </tr>\n",
       "    <tr>\n",
       "      <th>max</th>\n",
       "      <td>448.200012</td>\n",
       "      <td>451.549988</td>\n",
       "      <td>433.299988</td>\n",
       "    </tr>\n",
       "  </tbody>\n",
       "</table>\n",
       "</div>"
      ],
      "text/plain": [
       "             Close         High          Low\n",
       "count  2461.000000  2461.000000  2461.000000\n",
       "mean    201.333824   205.175567   197.970565\n",
       "std      97.239175    98.362379    96.067389\n",
       "min      51.480000    52.500000    50.000000\n",
       "25%     129.500000   132.550003   127.000000\n",
       "50%     154.199997   157.449997   151.500000\n",
       "75%     284.350006   288.149994   277.450012\n",
       "max     448.200012   451.549988   433.299988"
      ]
     },
     "execution_count": 241,
     "metadata": {},
     "output_type": "execute_result"
    }
   ],
   "source": [
    "df.describe()"
   ]
  },
  {
   "cell_type": "markdown",
   "metadata": {},
   "source": [
    "### Creating a data structure with timesteps and t+1 output"
   ]
  },
  {
   "cell_type": "code",
   "execution_count": 365,
   "metadata": {},
   "outputs": [
    {
     "data": {
      "text/plain": [
       "(2455, 6)"
      ]
     },
     "execution_count": 365,
     "metadata": {},
     "output_type": "execute_result"
    }
   ],
   "source": [
    "closing_set = []\n",
    "timestep=7\n",
    "timestep-=1\n",
    "for i in range(timestep, len(df)):\n",
    "    closing_set.append(df.values[i-timestep:i,0])\n",
    "closing_set = np.array(closing_set)\n",
    "closing_set.shape"
   ]
  },
  {
   "cell_type": "code",
   "execution_count": 366,
   "metadata": {},
   "outputs": [
    {
     "data": {
      "text/plain": [
       "(2455, 9)"
      ]
     },
     "execution_count": 366,
     "metadata": {},
     "output_type": "execute_result"
    }
   ],
   "source": [
    "modified_df=np.hstack((closing_set,df.values[timestep-1:-1,1:],df.values[timestep:,:1]))\n",
    "modified_df.shape"
   ]
  },
  {
   "cell_type": "code",
   "execution_count": 367,
   "metadata": {},
   "outputs": [],
   "source": [
    "col_labels=[]\n",
    "for i in range(timestep-1,0,-1):\n",
    "    col_labels.append(f\"Close_i-{i},\")\n",
    "\n",
    "col_labels.extend([\"Close_i\",\"High_i\",\"Low_i\",\"Close_i+1\"])"
   ]
  },
  {
   "cell_type": "code",
   "execution_count": 368,
   "metadata": {},
   "outputs": [
    {
     "data": {
      "text/plain": [
       "['Close_i-5,',\n",
       " 'Close_i-4,',\n",
       " 'Close_i-3,',\n",
       " 'Close_i-2,',\n",
       " 'Close_i-1,',\n",
       " 'Close_i',\n",
       " 'High_i',\n",
       " 'Low_i',\n",
       " 'Close_i+1']"
      ]
     },
     "execution_count": 368,
     "metadata": {},
     "output_type": "execute_result"
    }
   ],
   "source": [
    "col_labels"
   ]
  },
  {
   "cell_type": "code",
   "execution_count": 369,
   "metadata": {},
   "outputs": [],
   "source": [
    "modified_df=pd.DataFrame(modified_df,columns=col_labels)\n",
    "modified_df.index=df[timestep-1:-1].index"
   ]
  },
  {
   "cell_type": "markdown",
   "metadata": {},
   "source": [
    "# Modified Dataset for RNN prediction"
   ]
  },
  {
   "cell_type": "code",
   "execution_count": 370,
   "metadata": {},
   "outputs": [
    {
     "data": {
      "text/html": [
       "<div>\n",
       "<style scoped>\n",
       "    .dataframe tbody tr th:only-of-type {\n",
       "        vertical-align: middle;\n",
       "    }\n",
       "\n",
       "    .dataframe tbody tr th {\n",
       "        vertical-align: top;\n",
       "    }\n",
       "\n",
       "    .dataframe thead th {\n",
       "        text-align: right;\n",
       "    }\n",
       "</style>\n",
       "<table border=\"1\" class=\"dataframe\">\n",
       "  <thead>\n",
       "    <tr style=\"text-align: right;\">\n",
       "      <th></th>\n",
       "      <th>Close_i-5,</th>\n",
       "      <th>Close_i-4,</th>\n",
       "      <th>Close_i-3,</th>\n",
       "      <th>Close_i-2,</th>\n",
       "      <th>Close_i-1,</th>\n",
       "      <th>Close_i</th>\n",
       "      <th>High_i</th>\n",
       "      <th>Low_i</th>\n",
       "      <th>Close_i+1</th>\n",
       "    </tr>\n",
       "    <tr>\n",
       "      <th>Date</th>\n",
       "      <th></th>\n",
       "      <th></th>\n",
       "      <th></th>\n",
       "      <th></th>\n",
       "      <th></th>\n",
       "      <th></th>\n",
       "      <th></th>\n",
       "      <th></th>\n",
       "      <th></th>\n",
       "    </tr>\n",
       "  </thead>\n",
       "  <tbody>\n",
       "    <tr>\n",
       "      <th>2008-05-13</th>\n",
       "      <td>151.149994</td>\n",
       "      <td>153.309998</td>\n",
       "      <td>155.889999</td>\n",
       "      <td>156.520004</td>\n",
       "      <td>162.500000</td>\n",
       "      <td>158.479996</td>\n",
       "      <td>165.410004</td>\n",
       "      <td>157.399994</td>\n",
       "      <td>157.759995</td>\n",
       "    </tr>\n",
       "    <tr>\n",
       "      <th>2008-05-14</th>\n",
       "      <td>153.309998</td>\n",
       "      <td>155.889999</td>\n",
       "      <td>156.520004</td>\n",
       "      <td>162.500000</td>\n",
       "      <td>158.479996</td>\n",
       "      <td>157.759995</td>\n",
       "      <td>160.399994</td>\n",
       "      <td>156.899994</td>\n",
       "      <td>158.080002</td>\n",
       "    </tr>\n",
       "    <tr>\n",
       "      <th>2008-05-15</th>\n",
       "      <td>155.889999</td>\n",
       "      <td>156.520004</td>\n",
       "      <td>162.500000</td>\n",
       "      <td>158.479996</td>\n",
       "      <td>157.759995</td>\n",
       "      <td>158.080002</td>\n",
       "      <td>161.970001</td>\n",
       "      <td>157.050003</td>\n",
       "      <td>154.779999</td>\n",
       "    </tr>\n",
       "    <tr>\n",
       "      <th>2008-05-16</th>\n",
       "      <td>156.520004</td>\n",
       "      <td>162.500000</td>\n",
       "      <td>158.479996</td>\n",
       "      <td>157.759995</td>\n",
       "      <td>158.080002</td>\n",
       "      <td>154.779999</td>\n",
       "      <td>160.000000</td>\n",
       "      <td>154.000000</td>\n",
       "      <td>176.960007</td>\n",
       "    </tr>\n",
       "    <tr>\n",
       "      <th>2008-05-20</th>\n",
       "      <td>162.500000</td>\n",
       "      <td>158.479996</td>\n",
       "      <td>157.759995</td>\n",
       "      <td>158.080002</td>\n",
       "      <td>154.779999</td>\n",
       "      <td>176.960007</td>\n",
       "      <td>181.100006</td>\n",
       "      <td>153.570007</td>\n",
       "      <td>180.289993</td>\n",
       "    </tr>\n",
       "    <tr>\n",
       "      <th>...</th>\n",
       "      <td>...</td>\n",
       "      <td>...</td>\n",
       "      <td>...</td>\n",
       "      <td>...</td>\n",
       "      <td>...</td>\n",
       "      <td>...</td>\n",
       "      <td>...</td>\n",
       "      <td>...</td>\n",
       "      <td>...</td>\n",
       "    </tr>\n",
       "    <tr>\n",
       "      <th>2018-04-26</th>\n",
       "      <td>386.450012</td>\n",
       "      <td>381.250000</td>\n",
       "      <td>385.250000</td>\n",
       "      <td>391.950012</td>\n",
       "      <td>392.100006</td>\n",
       "      <td>396.450012</td>\n",
       "      <td>398.000000</td>\n",
       "      <td>388.000000</td>\n",
       "      <td>401.450012</td>\n",
       "    </tr>\n",
       "    <tr>\n",
       "      <th>2018-04-27</th>\n",
       "      <td>381.250000</td>\n",
       "      <td>385.250000</td>\n",
       "      <td>391.950012</td>\n",
       "      <td>392.100006</td>\n",
       "      <td>396.450012</td>\n",
       "      <td>401.450012</td>\n",
       "      <td>405.049988</td>\n",
       "      <td>399.000000</td>\n",
       "      <td>406.450012</td>\n",
       "    </tr>\n",
       "    <tr>\n",
       "      <th>2018-04-30</th>\n",
       "      <td>385.250000</td>\n",
       "      <td>391.950012</td>\n",
       "      <td>392.100006</td>\n",
       "      <td>396.450012</td>\n",
       "      <td>401.450012</td>\n",
       "      <td>406.450012</td>\n",
       "      <td>410.799988</td>\n",
       "      <td>399.000000</td>\n",
       "      <td>399.899994</td>\n",
       "    </tr>\n",
       "    <tr>\n",
       "      <th>2018-05-02</th>\n",
       "      <td>391.950012</td>\n",
       "      <td>392.100006</td>\n",
       "      <td>396.450012</td>\n",
       "      <td>401.450012</td>\n",
       "      <td>406.450012</td>\n",
       "      <td>399.899994</td>\n",
       "      <td>411.000000</td>\n",
       "      <td>396.600006</td>\n",
       "      <td>396.799988</td>\n",
       "    </tr>\n",
       "    <tr>\n",
       "      <th>2018-05-03</th>\n",
       "      <td>392.100006</td>\n",
       "      <td>396.450012</td>\n",
       "      <td>401.450012</td>\n",
       "      <td>406.450012</td>\n",
       "      <td>399.899994</td>\n",
       "      <td>396.799988</td>\n",
       "      <td>406.399994</td>\n",
       "      <td>394.299988</td>\n",
       "      <td>408.200012</td>\n",
       "    </tr>\n",
       "  </tbody>\n",
       "</table>\n",
       "<p>2455 rows × 9 columns</p>\n",
       "</div>"
      ],
      "text/plain": [
       "            Close_i-5,  Close_i-4,  Close_i-3,  Close_i-2,  Close_i-1,  \\\n",
       "Date                                                                     \n",
       "2008-05-13  151.149994  153.309998  155.889999  156.520004  162.500000   \n",
       "2008-05-14  153.309998  155.889999  156.520004  162.500000  158.479996   \n",
       "2008-05-15  155.889999  156.520004  162.500000  158.479996  157.759995   \n",
       "2008-05-16  156.520004  162.500000  158.479996  157.759995  158.080002   \n",
       "2008-05-20  162.500000  158.479996  157.759995  158.080002  154.779999   \n",
       "...                ...         ...         ...         ...         ...   \n",
       "2018-04-26  386.450012  381.250000  385.250000  391.950012  392.100006   \n",
       "2018-04-27  381.250000  385.250000  391.950012  392.100006  396.450012   \n",
       "2018-04-30  385.250000  391.950012  392.100006  396.450012  401.450012   \n",
       "2018-05-02  391.950012  392.100006  396.450012  401.450012  406.450012   \n",
       "2018-05-03  392.100006  396.450012  401.450012  406.450012  399.899994   \n",
       "\n",
       "               Close_i      High_i       Low_i   Close_i+1  \n",
       "Date                                                        \n",
       "2008-05-13  158.479996  165.410004  157.399994  157.759995  \n",
       "2008-05-14  157.759995  160.399994  156.899994  158.080002  \n",
       "2008-05-15  158.080002  161.970001  157.050003  154.779999  \n",
       "2008-05-16  154.779999  160.000000  154.000000  176.960007  \n",
       "2008-05-20  176.960007  181.100006  153.570007  180.289993  \n",
       "...                ...         ...         ...         ...  \n",
       "2018-04-26  396.450012  398.000000  388.000000  401.450012  \n",
       "2018-04-27  401.450012  405.049988  399.000000  406.450012  \n",
       "2018-04-30  406.450012  410.799988  399.000000  399.899994  \n",
       "2018-05-02  399.899994  411.000000  396.600006  396.799988  \n",
       "2018-05-03  396.799988  406.399994  394.299988  408.200012  \n",
       "\n",
       "[2455 rows x 9 columns]"
      ]
     },
     "execution_count": 370,
     "metadata": {},
     "output_type": "execute_result"
    }
   ],
   "source": [
    "modified_df"
   ]
  },
  {
   "cell_type": "markdown",
   "metadata": {},
   "source": [
    "### Feature Scaling"
   ]
  },
  {
   "cell_type": "code",
   "execution_count": 371,
   "metadata": {},
   "outputs": [
    {
     "data": {
      "text/html": [
       "<div>\n",
       "<style scoped>\n",
       "    .dataframe tbody tr th:only-of-type {\n",
       "        vertical-align: middle;\n",
       "    }\n",
       "\n",
       "    .dataframe tbody tr th {\n",
       "        vertical-align: top;\n",
       "    }\n",
       "\n",
       "    .dataframe thead th {\n",
       "        text-align: right;\n",
       "    }\n",
       "</style>\n",
       "<table border=\"1\" class=\"dataframe\">\n",
       "  <thead>\n",
       "    <tr style=\"text-align: right;\">\n",
       "      <th></th>\n",
       "      <th>Close_i-5,</th>\n",
       "      <th>Close_i-4,</th>\n",
       "      <th>Close_i-3,</th>\n",
       "      <th>Close_i-2,</th>\n",
       "      <th>Close_i-1,</th>\n",
       "      <th>Close_i</th>\n",
       "      <th>High_i</th>\n",
       "      <th>Low_i</th>\n",
       "      <th>Close_i+1</th>\n",
       "    </tr>\n",
       "    <tr>\n",
       "      <th>Date</th>\n",
       "      <th></th>\n",
       "      <th></th>\n",
       "      <th></th>\n",
       "      <th></th>\n",
       "      <th></th>\n",
       "      <th></th>\n",
       "      <th></th>\n",
       "      <th></th>\n",
       "      <th></th>\n",
       "    </tr>\n",
       "  </thead>\n",
       "  <tbody>\n",
       "    <tr>\n",
       "      <th>2008-05-13</th>\n",
       "      <td>0.334736</td>\n",
       "      <td>0.339519</td>\n",
       "      <td>0.345233</td>\n",
       "      <td>0.346628</td>\n",
       "      <td>0.359872</td>\n",
       "      <td>0.350969</td>\n",
       "      <td>0.366316</td>\n",
       "      <td>0.348577</td>\n",
       "      <td>0.349374</td>\n",
       "    </tr>\n",
       "    <tr>\n",
       "      <th>2008-05-14</th>\n",
       "      <td>0.339519</td>\n",
       "      <td>0.345233</td>\n",
       "      <td>0.346628</td>\n",
       "      <td>0.359872</td>\n",
       "      <td>0.350969</td>\n",
       "      <td>0.349374</td>\n",
       "      <td>0.355221</td>\n",
       "      <td>0.347470</td>\n",
       "      <td>0.350083</td>\n",
       "    </tr>\n",
       "    <tr>\n",
       "      <th>2008-05-15</th>\n",
       "      <td>0.345233</td>\n",
       "      <td>0.346628</td>\n",
       "      <td>0.359872</td>\n",
       "      <td>0.350969</td>\n",
       "      <td>0.349374</td>\n",
       "      <td>0.350083</td>\n",
       "      <td>0.358698</td>\n",
       "      <td>0.347802</td>\n",
       "      <td>0.342775</td>\n",
       "    </tr>\n",
       "    <tr>\n",
       "      <th>2008-05-16</th>\n",
       "      <td>0.346628</td>\n",
       "      <td>0.359872</td>\n",
       "      <td>0.350969</td>\n",
       "      <td>0.349374</td>\n",
       "      <td>0.350083</td>\n",
       "      <td>0.342775</td>\n",
       "      <td>0.354335</td>\n",
       "      <td>0.341048</td>\n",
       "      <td>0.391895</td>\n",
       "    </tr>\n",
       "    <tr>\n",
       "      <th>2008-05-20</th>\n",
       "      <td>0.359872</td>\n",
       "      <td>0.350969</td>\n",
       "      <td>0.349374</td>\n",
       "      <td>0.350083</td>\n",
       "      <td>0.342775</td>\n",
       "      <td>0.391895</td>\n",
       "      <td>0.401063</td>\n",
       "      <td>0.340095</td>\n",
       "      <td>0.399269</td>\n",
       "    </tr>\n",
       "  </tbody>\n",
       "</table>\n",
       "</div>"
      ],
      "text/plain": [
       "            Close_i-5,  Close_i-4,  Close_i-3,  Close_i-2,  Close_i-1,  \\\n",
       "Date                                                                     \n",
       "2008-05-13    0.334736    0.339519    0.345233    0.346628    0.359872   \n",
       "2008-05-14    0.339519    0.345233    0.346628    0.359872    0.350969   \n",
       "2008-05-15    0.345233    0.346628    0.359872    0.350969    0.349374   \n",
       "2008-05-16    0.346628    0.359872    0.350969    0.349374    0.350083   \n",
       "2008-05-20    0.359872    0.350969    0.349374    0.350083    0.342775   \n",
       "\n",
       "             Close_i    High_i     Low_i  Close_i+1  \n",
       "Date                                                 \n",
       "2008-05-13  0.350969  0.366316  0.348577   0.349374  \n",
       "2008-05-14  0.349374  0.355221  0.347470   0.350083  \n",
       "2008-05-15  0.350083  0.358698  0.347802   0.342775  \n",
       "2008-05-16  0.342775  0.354335  0.341048   0.391895  \n",
       "2008-05-20  0.391895  0.401063  0.340095   0.399269  "
      ]
     },
     "execution_count": 371,
     "metadata": {},
     "output_type": "execute_result"
    }
   ],
   "source": [
    "max_val=modified_df.max().max()\n",
    "modified_df=(modified_df)/max_val\n",
    "modified_df.head()"
   ]
  },
  {
   "cell_type": "code",
   "execution_count": 372,
   "metadata": {},
   "outputs": [],
   "source": [
    "dataset_train=modified_df[:int(len(modified_df)*0.8)]\n",
    "dataset_valid=modified_df[int(len(modified_df)*0.8):int(len(modified_df)*0.9)]\n",
    "dataset_test =modified_df[int(len(modified_df)*0.9):]"
   ]
  },
  {
   "cell_type": "code",
   "execution_count": 373,
   "metadata": {},
   "outputs": [
    {
     "data": {
      "text/plain": [
       "((1964, 9), (245, 9), (246, 9))"
      ]
     },
     "execution_count": 373,
     "metadata": {},
     "output_type": "execute_result"
    }
   ],
   "source": [
    "dataset_train.shape,dataset_valid.shape,dataset_test.shape"
   ]
  },
  {
   "cell_type": "markdown",
   "metadata": {},
   "source": [
    "# Splitting train test valid"
   ]
  },
  {
   "cell_type": "code",
   "execution_count": 374,
   "metadata": {},
   "outputs": [
    {
     "data": {
      "text/plain": [
       "((1964, 8), (1964,))"
      ]
     },
     "execution_count": 374,
     "metadata": {},
     "output_type": "execute_result"
    }
   ],
   "source": [
    "X_train,y_train=dataset_train.values[:,:-1],dataset_train.values[:,-1]\n",
    "X_valid,y_valid=dataset_valid.values[:,:-1],dataset_valid.values[:,-1]\n",
    "X_test,y_test=dataset_test.values[:,:-1],dataset_test.values[:,-1]\n",
    "X_train.shape,y_train.shape"
   ]
  },
  {
   "cell_type": "code",
   "execution_count": 375,
   "metadata": {},
   "outputs": [
    {
     "data": {
      "text/plain": [
       "((1964, 8, 1), (245, 8, 1), (246, 8, 1))"
      ]
     },
     "execution_count": 375,
     "metadata": {},
     "output_type": "execute_result"
    }
   ],
   "source": [
    "X_train=X_train[:,:,np.newaxis]\n",
    "X_valid=X_valid[:,:,np.newaxis]\n",
    "X_test=X_test[:,:,np.newaxis]\n",
    "X_train.shape,X_valid.shape,X_test.shape"
   ]
  },
  {
   "cell_type": "markdown",
   "metadata": {},
   "source": [
    "# Defining RNN Model in Tensorflow"
   ]
  },
  {
   "cell_type": "code",
   "execution_count": 385,
   "metadata": {},
   "outputs": [],
   "source": [
    "from tensorflow.keras.models import Sequential\n",
    "from tensorflow.keras.layers import Dense\n",
    "from tensorflow.keras.layers import LSTM\n",
    "\n",
    "# Initialising the RNN\n",
    "regressor = Sequential()\n",
    "\n",
    "# Adding the input layer and the LSTM layer\n",
    "regressor.add(LSTM(units = 3, input_shape = (None, 1),return_sequences=True)) # if >1 lstm layer put return_sequences=True here\n",
    "\n",
    "# Adding a second LSTM layer\n",
    "regressor.add(LSTM(units = 3, return_sequences = True))\n",
    "\n",
    "# Adding a third LSTM layer\n",
    "regressor.add(LSTM(units = 3, return_sequences = True))\n",
    "\n",
    "# # Adding a fourth LSTM layer\n",
    "regressor.add(LSTM(units = 3)) \n",
    "#last lstm layer return_sequences=False for Next dense layer\n",
    "\n",
    "\n",
    "# Adding the output layer\n",
    "regressor.add(Dense(units = 1))\n",
    "\n",
    "# Compiling the RNN\n",
    "regressor.compile(optimizer = 'rmsprop', loss = 'mean_squared_error')"
   ]
  },
  {
   "cell_type": "code",
   "execution_count": 386,
   "metadata": {},
   "outputs": [
    {
     "name": "stdout",
     "output_type": "stream",
     "text": [
      "Model: \"sequential_6\"\n",
      "_________________________________________________________________\n",
      "Layer (type)                 Output Shape              Param #   \n",
      "=================================================================\n",
      "lstm_24 (LSTM)               (None, None, 3)           60        \n",
      "_________________________________________________________________\n",
      "lstm_25 (LSTM)               (None, None, 3)           84        \n",
      "_________________________________________________________________\n",
      "lstm_26 (LSTM)               (None, None, 3)           84        \n",
      "_________________________________________________________________\n",
      "lstm_27 (LSTM)               (None, 3)                 84        \n",
      "_________________________________________________________________\n",
      "dense_6 (Dense)              (None, 1)                 4         \n",
      "=================================================================\n",
      "Total params: 316\n",
      "Trainable params: 316\n",
      "Non-trainable params: 0\n",
      "_________________________________________________________________\n"
     ]
    }
   ],
   "source": [
    "regressor.summary()"
   ]
  },
  {
   "cell_type": "markdown",
   "metadata": {},
   "source": [
    "## Fitting the RNN to the Training set"
   ]
  },
  {
   "cell_type": "code",
   "execution_count": 387,
   "metadata": {
    "scrolled": true
   },
   "outputs": [
    {
     "name": "stdout",
     "output_type": "stream",
     "text": [
      "Train on 1964 samples, validate on 245 samples\n",
      "Epoch 1/20\n",
      "1964/1964 [==============================] - 14s 7ms/sample - loss: 0.0411 - val_loss: 0.0394\n",
      "Epoch 2/20\n",
      "1964/1964 [==============================] - 8s 4ms/sample - loss: 0.0055 - val_loss: 7.0434e-04\n",
      "Epoch 3/20\n",
      "1964/1964 [==============================] - 8s 4ms/sample - loss: 5.4859e-04 - val_loss: 7.0943e-04\n",
      "Epoch 4/20\n",
      "1964/1964 [==============================] - 7s 4ms/sample - loss: 5.2504e-04 - val_loss: 6.7514e-04\n",
      "Epoch 5/20\n",
      "1964/1964 [==============================] - 7s 4ms/sample - loss: 5.3431e-04 - val_loss: 7.8596e-04\n",
      "Epoch 6/20\n",
      "1964/1964 [==============================] - 7s 4ms/sample - loss: 5.2605e-04 - val_loss: 7.5559e-04\n",
      "Epoch 7/20\n",
      "1964/1964 [==============================] - 8s 4ms/sample - loss: 5.0652e-04 - val_loss: 0.0012\n",
      "Epoch 8/20\n",
      "1964/1964 [==============================] - 9s 5ms/sample - loss: 5.2237e-04 - val_loss: 8.0354e-04\n",
      "Epoch 9/20\n",
      "1964/1964 [==============================] - 9s 5ms/sample - loss: 5.1727e-04 - val_loss: 6.0371e-04\n",
      "Epoch 10/20\n",
      "1964/1964 [==============================] - 9s 4ms/sample - loss: 5.0501e-04 - val_loss: 6.0858e-04\n",
      "Epoch 11/20\n",
      "1964/1964 [==============================] - 9s 4ms/sample - loss: 5.0539e-04 - val_loss: 6.1939e-04\n",
      "Epoch 12/20\n",
      "1964/1964 [==============================] - 9s 4ms/sample - loss: 5.0429e-04 - val_loss: 6.3865e-04\n",
      "Epoch 13/20\n",
      "1964/1964 [==============================] - 9s 5ms/sample - loss: 4.8396e-04 - val_loss: 6.0191e-04\n",
      "Epoch 14/20\n",
      "1964/1964 [==============================] - 8s 4ms/sample - loss: 4.9865e-04 - val_loss: 6.9576e-04\n",
      "Epoch 15/20\n",
      "1964/1964 [==============================] - 9s 4ms/sample - loss: 4.8710e-04 - val_loss: 0.0030\n",
      "Epoch 16/20\n",
      "1964/1964 [==============================] - 8s 4ms/sample - loss: 4.9383e-04 - val_loss: 6.9043e-04\n",
      "Epoch 17/20\n",
      "1964/1964 [==============================] - 9s 5ms/sample - loss: 4.7106e-04 - val_loss: 5.6440e-04\n",
      "Epoch 18/20\n",
      "1964/1964 [==============================] - 9s 5ms/sample - loss: 4.8434e-04 - val_loss: 0.0014\n",
      "Epoch 19/20\n",
      "1964/1964 [==============================] - 9s 4ms/sample - loss: 4.7982e-04 - val_loss: 5.7685e-04\n",
      "Epoch 20/20\n",
      "1964/1964 [==============================] - 9s 5ms/sample - loss: 4.8615e-04 - val_loss: 6.6279e-04\n"
     ]
    },
    {
     "data": {
      "text/plain": [
       "<tensorflow.python.keras.callbacks.History at 0x7f7d4a32e8d0>"
      ]
     },
     "execution_count": 387,
     "metadata": {},
     "output_type": "execute_result"
    }
   ],
   "source": [
    "regressor.fit(X_train, y_train,validation_data=(X_valid,y_valid), epochs = 20, batch_size = 10)"
   ]
  },
  {
   "cell_type": "markdown",
   "metadata": {},
   "source": [
    "# Predicting on Train Set"
   ]
  },
  {
   "cell_type": "code",
   "execution_count": 391,
   "metadata": {},
   "outputs": [],
   "source": [
    "predicted_stocks_train = regressor.predict(X_train)"
   ]
  },
  {
   "cell_type": "markdown",
   "metadata": {},
   "source": [
    "# Running on Test Set"
   ]
  },
  {
   "cell_type": "code",
   "execution_count": 392,
   "metadata": {},
   "outputs": [],
   "source": [
    "predicted_stocks_test = regressor.predict(X_test)"
   ]
  },
  {
   "cell_type": "markdown",
   "metadata": {},
   "source": [
    "# Visualising the Train results"
   ]
  },
  {
   "cell_type": "code",
   "execution_count": 395,
   "metadata": {},
   "outputs": [
    {
     "data": {
      "image/png": "[encoded data removed]",
      "text/plain": [
       "<Figure size 432x288 with 1 Axes>"
      ]
     },
     "metadata": {
      "needs_background": "light"
     },
     "output_type": "display_data"
    }
   ],
   "source": [
    "plt.plot(y_train[:1000], color = 'red', label = 'Real')\n",
    "plt.plot(predicted_stocks_train[:1000]*1.05, color = 'blue', label = 'Predicted')\n",
    "plt.title(f'Stocks Prediction using RNN with {timestep}-timesteps')\n",
    "plt.xlabel('Time')\n",
    "plt.ylabel('NextDay_Close')\n",
    "plt.legend()\n",
    "plt.tight_layout()\n",
    "plt.show()"
   ]
  },
  {
   "cell_type": "markdown",
   "metadata": {},
   "source": [
    "# Visualising the results"
   ]
  },
  {
   "cell_type": "code",
   "execution_count": 397,
   "metadata": {},
   "outputs": [
    {
     "data": {
      "image/png": "[encoded data removed]",
      "text/plain": [
       "<Figure size 432x288 with 1 Axes>"
      ]
     },
     "metadata": {
      "needs_background": "light"
     },
     "output_type": "display_data"
    }
   ],
   "source": [
    "plt.plot(y_test, color = 'red', label = 'Real')\n",
    "plt.plot(predicted_stocks*1.05, color = 'blue', label = 'Predicted')\n",
    "plt.title(f'Stocks Prediction using RNN with {timestep}-timesteps')\n",
    "plt.xlabel('Time')\n",
    "plt.ylabel('NextDay_Close')\n",
    "plt.legend()\n",
    "plt.tight_layout()\n",
    "plt.show()"
   ]
  },
  {
   "cell_type": "code",
   "execution_count": null,
   "metadata": {},
   "outputs": [],
   "source": []
  }
 ],
 "metadata": {
  "kernelspec": {
   "display_name": "Python 3",
   "language": "python",
   "name": "python3"
  },
  "language_info": {
   "codemirror_mode": {
    "name": "ipython",
    "version": 3
   },
   "file_extension": ".py",
   "mimetype": "text/x-python",
   "name": "python",
   "nbconvert_exporter": "python",
   "pygments_lexer": "ipython3",
   "version": "3.7.7"
  }
 },
 "nbformat": 4,
 "nbformat_minor": 4
}
